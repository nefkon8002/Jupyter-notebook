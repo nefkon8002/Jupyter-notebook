{
 "cells": [
  {
   "cell_type": "markdown",
   "id": "7d6564b2-568b-4d6e-800c-d23de39105ed",
   "metadata": {},
   "source": [
    "# Data Science Tools and Ecosystem\n",
    "**In this notebook Data Science Tools and Ecosystem are summarized**"
   ]
  },
  {
   "cell_type": "markdown",
   "id": "ef312d5a-5acb-4967-9c7c-db54976bb48e",
   "metadata": {
    "tags": []
   },
   "source": [
    "## Objectives\n",
    "\n",
    "After completing this lab, you will be able to:\n",
    "* Identify in which Kernel your Jupyter notebook is running\n",
    "* Create headings, and add text in bold and italics in Markdown\n",
    "* Insert links and images using Markdown\n",
    "* Create Tables in Markdown\n",
    "* Create ordered and unordered lists in Markdown\n",
    "* Demonstrate your proficiency in using Markdown in Jupyter Notebooks"
   ]
  },
  {
   "cell_type": "markdown",
   "id": "3528fa1c-899f-4b64-99e6-7b759a0231c8",
   "metadata": {
    "tags": []
   },
   "source": [
    "### Some of popular languages that Data Scientists use are :\n",
    "\n",
    "1. Python\n",
    "2. Java\n",
    "3. C++\n",
    "4. C\n",
    "\n",
    "\n",
    "\n"
   ]
  },
  {
   "cell_type": "markdown",
   "id": "8faf37fd-8b71-4992-91bd-a5395f27d230",
   "metadata": {},
   "source": [
    "## Some of the commonly used libraries used by Data Scientists include:\n",
    "1. Pandas\n",
    "2. NumPy\n",
    "3. Matplotlib\n",
    "4. Seaborn\n",
    "5. Scikit-learn"
   ]
  },
  {
   "cell_type": "markdown",
   "id": "a2cce5e7-bce6-4a01-b100-595f5b61a960",
   "metadata": {},
   "source": [
    "## Execute as a markdown cell\n",
    "\n",
    "| Data Science Tools |\n",
    "| ------------- |\n",
    "| RStudio |\n",
    "| GitHub |\n",
    "| Jupyter  |\n",
    "| Anaconda |"
   ]
  },
  {
   "cell_type": "markdown",
   "id": "5c0585bb-b202-421a-b379-13eb6f746b68",
   "metadata": {},
   "source": [
    "### Below are a few examples of evaluating arithmetic expressions in Python.\n",
    "\n",
    "total_price = item_price*(1+tax_rate/100)\n",
    "\n",
    "17 % 3\n",
    "\n",
    "2 ** 3\n",
    "\n",
    "25//4\n"
   ]
  },
  {
   "cell_type": "code",
   "execution_count": 2,
   "id": "794d1d66-5faf-4412-91ce-de635b9b23f8",
   "metadata": {
    "tags": []
   },
   "outputs": [
    {
     "data": {
      "text/plain": [
       "17"
      ]
     },
     "execution_count": 2,
     "metadata": {},
     "output_type": "execute_result"
    }
   ],
   "source": [
    "## This a simple arithmetic expression to mutiply then add integer\n",
    "\n",
    "(3*4)+5"
   ]
  },
  {
   "cell_type": "code",
   "execution_count": 4,
   "id": "1cbf80ba-a4b6-4fd1-87cd-5373c69df38e",
   "metadata": {
    "tags": []
   },
   "outputs": [
    {
     "data": {
      "text/plain": [
       "3.3333333333333335"
      ]
     },
     "execution_count": 4,
     "metadata": {},
     "output_type": "execute_result"
    }
   ],
   "source": [
    "##  This will convert 200 minutes to hours by diving by 60\n",
    "(200/60)"
   ]
  },
  {
   "cell_type": "markdown",
   "id": "b8cfcace-ac5c-4606-8922-57d5f3ae6bf0",
   "metadata": {},
   "source": [
    "## Author Neftali Ramirez Chavez"
   ]
  },
  {
   "cell_type": "code",
   "execution_count": null,
   "id": "a3861dee-84f2-43a0-a7f7-1099c21fbeca",
   "metadata": {},
   "outputs": [],
   "source": []
  }
 ],
 "metadata": {
  "kernelspec": {
   "display_name": "Python",
   "language": "python",
   "name": "conda-env-python-py"
  },
  "language_info": {
   "codemirror_mode": {
    "name": "ipython",
    "version": 3
   },
   "file_extension": ".py",
   "mimetype": "text/x-python",
   "name": "python",
   "nbconvert_exporter": "python",
   "pygments_lexer": "ipython3",
   "version": "3.7.12"
  }
 },
 "nbformat": 4,
 "nbformat_minor": 5
}
